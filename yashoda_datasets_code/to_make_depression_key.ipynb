{
<<<<<<< HEAD
 "cells": [
  {
   "cell_type": "code",
   "execution_count": 1,
   "id": "209a1cb0-832e-4365-87be-d4cf7d9c8055",
   "metadata": {},
   "outputs": [],
   "source": [
    "import pandas as pd\n",
    "\n",
    "# Load the TSV\n",
    "df = pd.read_csv('depression_factors.tsv', sep='\\t')\n",
    "\n",
    "# Map the scale to a binary depression indicator\n",
    "def to_binary(scale_val):\n",
    "    val = str(scale_val).strip().lower()\n",
    "    if val == 'normal/symptom absent':\n",
    "        return 0\n",
    "    elif val in ('mild depression', 'moderate depression', 'severe depression'):\n",
    "        return 1\n",
    "    else:\n",
    "        raise ValueError(f'Unknown scale value: {scale_val}')\n",
    "\n",
    "df['depression_binary'] = df['scale'].apply(to_binary)\n",
    "\n",
    "# Select relevant columns\n",
    "binary_df = df[['participant_id', 'depression_binary']]\n",
    "\n",
    "# Save to new TSV\n",
    "binary_df.to_csv('depression_factors_binary.tsv', sep='\\t', index=False)\n"
   ]
  },
  {
   "cell_type": "code",
   "execution_count": null,
   "id": "c05896f6-9f66-4211-b5ae-d95ad27590c7",
   "metadata": {},
   "outputs": [],
   "source": []
  }
 ],
 "metadata": {
  "kernelspec": {
   "display_name": "Python 3 (ipykernel)",
   "language": "python",
   "name": "python3"
  },
  "language_info": {
   "codemirror_mode": {
    "name": "ipython",
    "version": 3
   },
   "file_extension": ".py",
   "mimetype": "text/x-python",
   "name": "python",
   "nbconvert_exporter": "python",
   "pygments_lexer": "ipython3",
   "version": "3.11.11"
  }
 },
=======
 "cells": [],
 "metadata": {},
>>>>>>> f58f0f862304e4c788e30ac8c104aed737d40365
 "nbformat": 4,
 "nbformat_minor": 5
}
